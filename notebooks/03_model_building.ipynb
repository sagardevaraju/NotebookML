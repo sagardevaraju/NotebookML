{
 "cells": [
  {
   "cell_type": "markdown",
   "metadata": {},
   "source": [
    "# Model Building\n",
    "Train and tune a classification model using Optuna for hyperparameter optimisation.\n"
   ]
  },
  {
   "cell_type": "markdown",
   "metadata": {},
   "source": [
    "This notebook consumes the engineered training features and leverages Optuna to optimise a RandomForest classifier.\n"
   ]
  },
  {
   "cell_type": "code",
   "execution_count": null,
   "metadata": {
    "tags": [
     "parameters"
    ]
   },
   "outputs": [],
   "source": [
    "params = {\n",
    "    'train_path': 'data/train_features.csv',\n",
    "    'feature_metadata_path': 'data/feature_metadata.json',\n",
    "    'model_output_path': 'models/random_forest.pkl',\n",
    "    'study_output_path': 'models/optuna_trials.csv',\n",
    "    'best_params_path': 'models/best_params.json',\n",
    "    'n_trials': 20,\n",
    "    'timeout': None,\n",
    "    'random_state': 42\n",
    "}\n"
   ]
  },
  {
   "cell_type": "code",
   "execution_count": null,
   "metadata": {},
   "outputs": [],
   "source": [
    "from pathlib import Path\n",
    "import json\n",
    "\n",
    "import joblib\n",
    "import optuna\n",
    "import pandas as pd\n",
    "from sklearn.ensemble import RandomForestClassifier\n",
    "from sklearn.model_selection import StratifiedKFold, cross_val_score\n",
    "\n",
    "params = dict(params)\n",
    "train_path = Path(params['train_path'])\n",
    "metadata_path = Path(params['feature_metadata_path'])\n",
    "model_output_path = Path(params['model_output_path'])\n",
    "study_output_path = Path(params['study_output_path'])\n",
    "best_params_path = Path(params['best_params_path'])\n",
    "n_trials = int(params.get('n_trials', 20))\n",
    "timeout = params.get('timeout')\n",
    "timeout = None if timeout in (None, 'None') else float(timeout)\n",
    "random_state = int(params.get('random_state', 42))\n",
    "\n",
    "model_output_path.parent.mkdir(parents=True, exist_ok=True)\n",
    "study_output_path.parent.mkdir(parents=True, exist_ok=True)\n",
    "best_params_path.parent.mkdir(parents=True, exist_ok=True)\n",
    "\n",
    "train_df = pd.read_csv(train_path)\n",
    "metadata = json.loads(metadata_path.read_text())\n",
    "target_column = metadata['target_column']\n",
    "feature_columns = metadata['feature_columns']\n",
    "\n",
    "X = train_df[feature_columns]\n",
    "y = train_df[target_column]\n",
    "\n",
    "def objective(trial: optuna.Trial) -> float:\n",
    "    model_params = {\n",
    "        'n_estimators': trial.suggest_int('n_estimators', 100, 500, step=50),\n",
    "        'max_depth': trial.suggest_int('max_depth', 3, 12),\n",
    "        'min_samples_split': trial.suggest_int('min_samples_split', 2, 10),\n",
    "        'min_samples_leaf': trial.suggest_int('min_samples_leaf', 1, 6),\n",
    "        'max_features': trial.suggest_categorical('max_features', ['sqrt', 'log2', None]),\n",
    "        'bootstrap': trial.suggest_categorical('bootstrap', [True, False]),\n",
    "        'random_state': random_state,\n",
    "        'n_jobs': -1,\n",
    "    }\n",
    "    model = RandomForestClassifier(**model_params)\n",
    "    cv = StratifiedKFold(n_splits=5, shuffle=True, random_state=random_state)\n",
    "    scores = cross_val_score(model, X, y, cv=cv, scoring='accuracy', n_jobs=-1)\n",
    "    return scores.mean()\n",
    "\n",
    "sampler = optuna.samplers.TPESampler(seed=random_state)\n",
    "study = optuna.create_study(direction='maximize', sampler=sampler)\n",
    "study.optimize(objective, n_trials=n_trials, timeout=timeout)\n",
    "\n",
    "best_params = study.best_trial.params\n",
    "best_params.update({'random_state': random_state, 'n_jobs': -1})\n",
    "\n",
    "best_model = RandomForestClassifier(**best_params)\n",
    "best_model.fit(X, y)\n",
    "\n",
    "joblib.dump(best_model, model_output_path)\n",
    "study_df = study.trials_dataframe()\n",
    "study_df.to_csv(study_output_path, index=False)\n",
    "\n",
    "with best_params_path.open('w') as fp:\n",
    "    json.dump({'best_params': best_params, 'best_value': study.best_value}, fp, indent=2)\n",
    "\n",
    "{\n",
    "    'best_score': study.best_value,\n",
    "    'best_params': best_params,\n",
    "    'n_trials': len(study.trials),\n",
    "}\n"
   ]
  }
 ],
 "metadata": {
  "kernelspec": {
   "display_name": "Python 3",
   "language": "python",
   "name": "python3"
  },
  "language_info": {
   "name": "python"
  }
 },
 "nbformat": 4,
 "nbformat_minor": 5
}