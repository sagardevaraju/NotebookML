{
 "cells": [
  {
   "cell_type": "markdown",
   "metadata": {},
   "source": [
    "# Model Evaluation\n",
    "Evaluate the trained model against the held-out test set.\n"
   ]
  },
  {
   "cell_type": "markdown",
   "metadata": {},
   "source": [
    "This notebook produces standard classification metrics to assess the model trained in the previous step.\n"
   ]
  },
  {
   "cell_type": "code",
   "execution_count": null,
   "metadata": {
    "tags": [
     "parameters"
    ]
   },
   "outputs": [],
   "source": [
    "params = {\n",
    "    'test_path': 'data/test_features.csv',\n",
    "    'feature_metadata_path': 'data/feature_metadata.json',\n",
    "    'model_path': 'models/random_forest.pkl',\n",
    "    'metrics_output_path': 'models/metrics.json'\n",
    "}\n"
   ]
  },
  {
   "cell_type": "code",
   "execution_count": null,
   "metadata": {},
   "outputs": [],
   "source": [
    "from pathlib import Path\n",
    "import json\n",
    "\n",
    "import joblib\n",
    "import numpy as np\n",
    "import pandas as pd\n",
    "from sklearn.metrics import accuracy_score, f1_score, precision_score, recall_score, roc_auc_score\n",
    "\n",
    "test_path = Path(params['test_path'])\n",
    "metadata_path = Path(params['feature_metadata_path'])\n",
    "model_path = Path(params['model_path'])\n",
    "metrics_output_path = Path(params['metrics_output_path'])\n",
    "\n",
    "metrics_output_path.parent.mkdir(parents=True, exist_ok=True)\n",
    "\n",
    "metadata = json.loads(metadata_path.read_text())\n",
    "target_column = metadata['target_column']\n",
    "feature_columns = metadata['feature_columns']\n",
    "\n",
    "test_df = pd.read_csv(test_path)\n",
    "X_test = test_df[feature_columns]\n",
    "y_test = test_df[target_column]\n",
    "\n",
    "model = joblib.load(model_path)\n",
    "y_pred = model.predict(X_test)\n",
    "proba = model.predict_proba(X_test)[:, 1] if hasattr(model, 'predict_proba') else None\n",
    "\n",
    "metrics = {\n",
    "    'accuracy': float(accuracy_score(y_test, y_pred)),\n",
    "    'precision': float(precision_score(y_test, y_pred)),\n",
    "    'recall': float(recall_score(y_test, y_pred)),\n",
    "    'f1_score': float(f1_score(y_test, y_pred)),\n",
    "}\n",
    "if proba is not None:\n",
    "    try:\n",
    "        metrics['roc_auc'] = float(roc_auc_score(y_test, proba))\n",
    "    except ValueError:\n",
    "        metrics['roc_auc'] = None\n",
    "else:\n",
    "    metrics['roc_auc'] = None\n",
    "\n",
    "with metrics_output_path.open('w') as fp:\n",
    "    json.dump(metrics, fp, indent=2)\n",
    "\n",
    "metrics\n"
   ]
  }
 ],
 "metadata": {
  "kernelspec": {
   "display_name": "Python 3",
   "language": "python",
   "name": "python3"
  },
  "language_info": {
   "name": "python"
  }
 },
 "nbformat": 4,
 "nbformat_minor": 5
}